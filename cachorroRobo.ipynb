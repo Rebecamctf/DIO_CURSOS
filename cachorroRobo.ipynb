{
  "nbformat": 4,
  "nbformat_minor": 0,
  "metadata": {
    "colab": {
      "name": "Untitled11.ipynb",
      "provenance": [],
      "authorship_tag": "ABX9TyMgCVTjZ4z4mRCUPnhA1Iv0",
      "include_colab_link": true
    },
    "kernelspec": {
      "name": "python3",
      "display_name": "Python 3"
    },
    "language_info": {
      "name": "python"
    }
  },
  "cells": [
    {
      "cell_type": "markdown",
      "metadata": {
        "id": "view-in-github",
        "colab_type": "text"
      },
      "source": [
        "<a href=\"https://colab.research.google.com/github/Rebecamctf/DIO_CURSOS/blob/main/cachorroRobo.ipynb\" target=\"_parent\"><img src=\"https://colab.research.google.com/assets/colab-badge.svg\" alt=\"Open In Colab\"/></a>"
      ]
    },
    {
      "cell_type": "code",
      "execution_count": null,
      "metadata": {
        "id": "rpTmwMQPoL7o"
      },
      "outputs": [],
      "source": [
        "# iniciar o cachorro, fome e sede\n",
        "class CachorroRobo:\n",
        "\n",
        "  def __init__(self, fome, sede):\n",
        "          self.setFome(fome)\n",
        "          self.setSede(sede)\n",
        "\n",
        "  # açõe do cachorro robo\n",
        "  def setFome(self, fome):\n",
        "          self.nome = fome\n",
        "\n",
        "  def getFome(self):\n",
        "          return self.fome\n",
        "\n",
        "  def setSede(self, sede):\n",
        "          self.sede = sede\n",
        "\n",
        "  def getSede(self):\n",
        "          return self.sede\n",
        "\n",
        "\n",
        "  # ensinar o cachorro a comer e beber\n",
        "\n",
        "  def alimentar(self, quantidade):\n",
        "\n",
        "        if quantidade >= 0 or quantidade <= 100:\n",
        "            self.fome -= self.fome * (quantidade/100)\n",
        "\n",
        "  def beber(self, quantidade):\n",
        "\n",
        "          if quantidade >= 0 or quantidade <= 100:\n",
        "              self.fome -= self.fome * (quantidade/100)\n",
        "\n",
        "\n",
        "# chamando o cachorro e ver seu status\n",
        "cachorro = CachorroRobo(14, 50)\n",
        "\n",
        "print('CUIDAR')\n",
        "print(f'Fome: {cachorro.getFome():.0f}%')\n",
        "print(f'Sede: {cachorro.getSede():.0f}%')\n",
        "\n"
      ]
    }
  ]
}